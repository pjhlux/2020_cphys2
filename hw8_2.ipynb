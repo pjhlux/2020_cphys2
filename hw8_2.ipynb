{
 "cells": [
  {
   "cell_type": "markdown",
   "metadata": {},
   "source": [
    "# 2. Fashin MNIST\n",
    "#### MNIST 패션 이미지를 딥러닝을 이용하여 분류하시오.\n",
    "MNIST 패션데이터는 10종류의 60000개 패션 학습데이터와 10000개의 테스트 데이터로 구성되어 있습니다.\n",
    "손글씨 데이터 분류처럼 패션 데이터를 딥러닝을 이용하여 분류하시오."
   ]
  },
  {
   "cell_type": "code",
   "execution_count": 56,
   "metadata": {},
   "outputs": [],
   "source": [
    "from keras.datasets import fashion_mnist\n",
    "from tensorflow import keras\n",
    "from keras import models \n",
    "from keras import layers\n",
    "import numpy as np\n",
    "import matplotlib.pyplot as plt\n",
    "from keras.utils import to_categorical\n",
    "\n",
    "(X, y), (X_test0, y_test) = fashion_mnist.load_data()"
   ]
  },
  {
   "cell_type": "code",
   "execution_count": 57,
   "metadata": {},
   "outputs": [
    {
     "data": {
      "text/plain": [
       "(9, <matplotlib.image.AxesImage at 0x224e4aa4f48>)"
      ]
     },
     "execution_count": 57,
     "metadata": {},
     "output_type": "execute_result"
    },
    {
     "data": {
      "image/png": "[encoded data removed]",
      "text/plain": [
       "<Figure size 432x288 with 1 Axes>"
      ]
     },
     "metadata": {
      "needs_background": "light"
     },
     "output_type": "display_data"
    }
   ],
   "source": [
    "y[0], plt.imshow(X[0],cmap=plt.cm.binary) # Ankle boot"
   ]
  },
  {
   "cell_type": "code",
   "execution_count": 58,
   "metadata": {},
   "outputs": [],
   "source": [
    "y_train = to_categorical(y)\n",
    "y_test = to_categorical(y_test)"
   ]
  },
  {
   "cell_type": "code",
   "execution_count": 59,
   "metadata": {},
   "outputs": [],
   "source": [
    "net = models.Sequential()\n",
    "net.add(layers.Dense(512, activation= 'relu', input_shape=(28*28,)))\n",
    "net.add(layers.Dropout(0.4))\n",
    "net.add(layers.Dense(512, activation= 'relu'))\n",
    "net.add(layers.Dropout(0.4))\n",
    "net.add(layers.Dense(512, activation= 'relu'))\n",
    "net.add(layers.Dense(10, activation= 'softmax'))\n",
    "net.compile(optimizer='nadam', loss='categorical_crossentropy',metrics=['accuracy'])"
   ]
  },
  {
   "cell_type": "code",
   "execution_count": 60,
   "metadata": {},
   "outputs": [],
   "source": [
    "# preprocessionmg\n",
    "X_train = X.reshape((60000, 28*28))\n",
    "X_train = X_train/255\n",
    "\n",
    "X_test = X_test0.reshape((10000, 28*28))\n",
    "X_test = X_test/255"
   ]
  },
  {
   "cell_type": "code",
   "execution_count": 61,
   "metadata": {},
   "outputs": [],
   "source": [
    "X_val = X_train[:10000]\n",
    "partial_X_train = X_train[10000:]\n",
    "\n",
    "y_val = y_train[:10000]\n",
    "partial_y_train = y_train[10000:]"
   ]
  },
  {
   "cell_type": "code",
   "execution_count": 62,
   "metadata": {},
   "outputs": [
    {
     "name": "stdout",
     "output_type": "stream",
     "text": [
      "Epoch 1/30\n",
      "391/391 [==============================] - 6s 17ms/step - loss: 0.6043 - accuracy: 0.7802 - val_loss: 0.4366 - val_accuracy: 0.8315\n",
      "Epoch 2/30\n",
      "391/391 [==============================] - 6s 16ms/step - loss: 0.4339 - accuracy: 0.8408 - val_loss: 0.3696 - val_accuracy: 0.8637\n",
      "Epoch 3/30\n",
      "391/391 [==============================] - 6s 16ms/step - loss: 0.3976 - accuracy: 0.8545 - val_loss: 0.3891 - val_accuracy: 0.8564\n",
      "Epoch 4/30\n",
      "391/391 [==============================] - 6s 16ms/step - loss: 0.3719 - accuracy: 0.8622 - val_loss: 0.3340 - val_accuracy: 0.8748\n",
      "Epoch 5/30\n",
      "391/391 [==============================] - 6s 16ms/step - loss: 0.3572 - accuracy: 0.8683 - val_loss: 0.3288 - val_accuracy: 0.8805\n",
      "Epoch 6/30\n",
      "391/391 [==============================] - 6s 16ms/step - loss: 0.3407 - accuracy: 0.8733 - val_loss: 0.3175 - val_accuracy: 0.8808\n",
      "Epoch 7/30\n",
      "391/391 [==============================] - 6s 16ms/step - loss: 0.3346 - accuracy: 0.8762 - val_loss: 0.3263 - val_accuracy: 0.8803\n",
      "Epoch 8/30\n",
      "391/391 [==============================] - 6s 16ms/step - loss: 0.3212 - accuracy: 0.8818 - val_loss: 0.3154 - val_accuracy: 0.8856\n",
      "Epoch 9/30\n",
      "391/391 [==============================] - 6s 16ms/step - loss: 0.3148 - accuracy: 0.8839 - val_loss: 0.3097 - val_accuracy: 0.8819\n",
      "Epoch 10/30\n",
      "391/391 [==============================] - 6s 16ms/step - loss: 0.3083 - accuracy: 0.8861 - val_loss: 0.2993 - val_accuracy: 0.8887\n",
      "Epoch 11/30\n",
      "391/391 [==============================] - 6s 16ms/step - loss: 0.3005 - accuracy: 0.8878 - val_loss: 0.2938 - val_accuracy: 0.8914\n",
      "Epoch 12/30\n",
      "391/391 [==============================] - 6s 16ms/step - loss: 0.2947 - accuracy: 0.8907 - val_loss: 0.3135 - val_accuracy: 0.8833\n",
      "Epoch 13/30\n",
      "391/391 [==============================] - 6s 16ms/step - loss: 0.2892 - accuracy: 0.8908 - val_loss: 0.2969 - val_accuracy: 0.8924\n",
      "Epoch 14/30\n",
      "391/391 [==============================] - 6s 16ms/step - loss: 0.2874 - accuracy: 0.8926 - val_loss: 0.2988 - val_accuracy: 0.8882\n",
      "Epoch 15/30\n",
      "391/391 [==============================] - 6s 16ms/step - loss: 0.2808 - accuracy: 0.8968 - val_loss: 0.2960 - val_accuracy: 0.8927\n",
      "Epoch 16/30\n",
      "391/391 [==============================] - 6s 16ms/step - loss: 0.2780 - accuracy: 0.8968 - val_loss: 0.2850 - val_accuracy: 0.8963\n",
      "Epoch 17/30\n",
      "391/391 [==============================] - 6s 16ms/step - loss: 0.2736 - accuracy: 0.8975 - val_loss: 0.2939 - val_accuracy: 0.8939\n",
      "Epoch 18/30\n",
      "391/391 [==============================] - 6s 16ms/step - loss: 0.2699 - accuracy: 0.8998 - val_loss: 0.2896 - val_accuracy: 0.8929\n",
      "Epoch 19/30\n",
      "391/391 [==============================] - 7s 17ms/step - loss: 0.2698 - accuracy: 0.8994 - val_loss: 0.2846 - val_accuracy: 0.8980\n",
      "Epoch 20/30\n",
      "391/391 [==============================] - 6s 16ms/step - loss: 0.2656 - accuracy: 0.9010 - val_loss: 0.2951 - val_accuracy: 0.8912\n",
      "Epoch 21/30\n",
      "391/391 [==============================] - 6s 16ms/step - loss: 0.2565 - accuracy: 0.9042 - val_loss: 0.2862 - val_accuracy: 0.8955\n",
      "Epoch 22/30\n",
      "391/391 [==============================] - 6s 16ms/step - loss: 0.2552 - accuracy: 0.9056 - val_loss: 0.3106 - val_accuracy: 0.8879\n",
      "Epoch 23/30\n",
      "391/391 [==============================] - 7s 17ms/step - loss: 0.2525 - accuracy: 0.9047 - val_loss: 0.2838 - val_accuracy: 0.8969\n",
      "Epoch 24/30\n",
      "391/391 [==============================] - 7s 17ms/step - loss: 0.2510 - accuracy: 0.9053 - val_loss: 0.2886 - val_accuracy: 0.8948\n",
      "Epoch 25/30\n",
      "391/391 [==============================] - 6s 16ms/step - loss: 0.2479 - accuracy: 0.9063 - val_loss: 0.2822 - val_accuracy: 0.8952\n",
      "Epoch 26/30\n",
      "391/391 [==============================] - 6s 16ms/step - loss: 0.2446 - accuracy: 0.9079 - val_loss: 0.2910 - val_accuracy: 0.8968\n",
      "Epoch 27/30\n",
      "391/391 [==============================] - 6s 16ms/step - loss: 0.2442 - accuracy: 0.9081 - val_loss: 0.2927 - val_accuracy: 0.8962\n",
      "Epoch 28/30\n",
      "391/391 [==============================] - 6s 16ms/step - loss: 0.2408 - accuracy: 0.9102 - val_loss: 0.2844 - val_accuracy: 0.8974\n",
      "Epoch 29/30\n",
      "391/391 [==============================] - 6s 16ms/step - loss: 0.2375 - accuracy: 0.9103 - val_loss: 0.2815 - val_accuracy: 0.8990\n",
      "Epoch 30/30\n",
      "391/391 [==============================] - 6s 16ms/step - loss: 0.2371 - accuracy: 0.9102 - val_loss: 0.2857 - val_accuracy: 0.8978\n"
     ]
    }
   ],
   "source": [
    "val = net.fit(partial_X_train, partial_y_train, epochs=30, batch_size=128, validation_data=(X_val, y_val))"
   ]
  },
  {
   "cell_type": "code",
   "execution_count": 63,
   "metadata": {},
   "outputs": [],
   "source": [
    "# net.fit(X_train, y_train, epochs=30, batch_size=128)"
   ]
  },
  {
   "cell_type": "code",
   "execution_count": 64,
   "metadata": {},
   "outputs": [
    {
     "name": "stdout",
     "output_type": "stream",
     "text": [
      "313/313 [==============================] - 0s 1ms/step - loss: 0.3240 - accuracy: 0.8924\n"
     ]
    }
   ],
   "source": [
    "test_loss, test_acc = net.evaluate(X_test, y_test)"
   ]
  },
  {
   "cell_type": "markdown",
   "metadata": {},
   "source": [
    "## 89.24 %"
   ]
  },
  {
   "cell_type": "code",
   "execution_count": null,
   "metadata": {},
   "outputs": [],
   "source": []
  }
 ],
 "metadata": {
  "kernelspec": {
   "display_name": "Python 3",
   "language": "python",
   "name": "python3"
  },
  "language_info": {
   "codemirror_mode": {
    "name": "ipython",
    "version": 3
   },
   "file_extension": ".py",
   "mimetype": "text/x-python",
   "name": "python",
   "nbconvert_exporter": "python",
   "pygments_lexer": "ipython3",
   "version": "3.7.6"
  }
 },
 "nbformat": 4,
 "nbformat_minor": 4
}
